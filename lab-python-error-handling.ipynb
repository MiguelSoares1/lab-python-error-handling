{
 "cells": [
  {
   "cell_type": "markdown",
   "id": "25d7736c-ba17-4aff-b6bb-66eba20fbf4e",
   "metadata": {},
   "source": [
    "# Lab | Error Handling"
   ]
  },
  {
   "cell_type": "markdown",
   "id": "bc99b386-7508-47a0-bcdb-d969deaf6c8b",
   "metadata": {},
   "source": [
    "## Exercise: Error Handling for Managing Customer Orders\n",
    "\n",
    "The implementation of your code for managing customer orders assumes that the user will always enter a valid input. \n",
    "\n",
    "For example, we could modify the `initialize_inventory` function to include error handling.\n",
    "   - If the user enters an invalid quantity (e.g., a negative value or a non-numeric value), display an error message and ask them to re-enter the quantity for that product.\n",
    "   - Use a try-except block to handle the error and continue prompting the user until a valid quantity is entered.\n",
    "\n",
    "```python\n",
    "# Step 1: Define the function for initializing the inventory with error handling\n",
    "def initialize_inventory(products):\n",
    "    inventory = {}\n",
    "    for product in products:\n",
    "        valid_quantity = False\n",
    "        while not valid_quantity:\n",
    "            try:\n",
    "                quantity = int(input(f\"Enter the quantity of {product}s available: \"))\n",
    "                if quantity < 0:\n",
    "                    raise ValueError(\"Invalid quantity! Please enter a non-negative value.\")\n",
    "                valid_quantity = True\n",
    "            except ValueError as error:\n",
    "                print(f\"Error: {error}\")\n",
    "        inventory[product] = quantity\n",
    "    return inventory\n",
    "\n",
    "# Or, in another way:\n",
    "\n",
    "def initialize_inventory(products):\n",
    "    inventory = {}\n",
    "    for product in products:\n",
    "        valid_input = False\n",
    "        while not valid_input:\n",
    "            try:\n",
    "                quantity = int(input(f\"Enter the quantity of {product}s available: \"))\n",
    "                if quantity >= 0:\n",
    "                    inventory[product] = quantity\n",
    "                    valid_input = True\n",
    "                else:\n",
    "                    print(\"Quantity cannot be negative. Please enter a valid quantity.\")\n",
    "            except ValueError:\n",
    "                print(\"Invalid input. Please enter a valid quantity.\")\n",
    "    return inventory\n",
    "```\n",
    "\n",
    "Let's enhance your code by implementing error handling to handle invalid inputs.\n",
    "\n",
    "Follow the steps below to complete the exercise:\n",
    "\n",
    "2. Modify the `calculate_total_price` function to include error handling.\n",
    "   - If the user enters an invalid price (e.g., a negative value or a non-numeric value), display an error message and ask them to re-enter the price for that product.\n",
    "   - Use a try-except block to handle the error and continue prompting the user until a valid price is entered.\n",
    "\n",
    "3. Modify the `get_customer_orders` function to include error handling.\n",
    "   - If the user enters an invalid number of orders (e.g., a negative value or a non-numeric value), display an error message and ask them to re-enter the number of orders.\n",
    "   - If the user enters an invalid product name (e.g., a product name that is not in the inventory), or that doesn't have stock available, display an error message and ask them to re-enter the product name. *Hint: you will need to pass inventory as a parameter*\n",
    "   - Use a try-except block to handle the error and continue prompting the user until a valid product name is entered.\n",
    "\n",
    "4. Test your code by running the program and deliberately entering invalid quantities and product names. Make sure the error handling mechanism works as expected.\n"
   ]
  },
  {
   "cell_type": "markdown",
   "id": "3fa5e421-bcf5-4fd0-bf83-6c4b8fae8951",
   "metadata": {},
   "source": [
    "The implementation of your code for managing customer orders assumes that the user will always enter a valid input.\n",
    "\n",
    "For example, we could modify the initialize_inventory function to include error handling.\n",
    "\n",
    "If the user enters an invalid quantity (e.g., a negative value or a non-numeric value), display an error message and ask them to re-enter the quantity for that product.\n",
    "Use a try-except block to handle the error and continue prompting the user until a valid quantity is entered.\n",
    "# Step 1: Define the function for initializing the inventory with error handling"
   ]
  },
  {
   "cell_type": "code",
   "execution_count": 11,
   "id": "3f56832d-7825-47d4-b33e-125f36200d81",
   "metadata": {},
   "outputs": [],
   "source": [
    "\n",
    "from typing import List, Dict, Set\n",
    "\n",
    "def initialize_inventory(products: List[str]) -> Dict[str, int]:\n",
    "    inventory = {}\n",
    "    for product in products:\n",
    "        valid_input = False\n",
    "        while not valid_input:\n",
    "            try:\n",
    "                quantity = int(input(f\"Enter the quantity of {product}s available: \"))\n",
    "                if quantity >= 0:\n",
    "                    inventory[product] = quantity\n",
    "                    valid_input = True\n",
    "                else:\n",
    "                    print(\"Quantity cannot be negative. Please enter a valid quantity.\")\n",
    "            except ValueError:\n",
    "                print(\"Invalid input. Please enter a valid quantity.\")\n",
    "    return inventory"
   ]
  },
  {
   "cell_type": "markdown",
   "id": "d3448686-e437-4164-bdcc-b9044b15300a",
   "metadata": {},
   "source": [
    "2. Modify the `calculate_total_price` function to include error handling.\n",
    "   - If the user enters an invalid price (e.g., a negative value or a non-numeric value), display an error message and ask them to re-enter the price for that product.\n",
    "   - Use a try-except block to handle the error and continue prompting the user until a valid price is entered."
   ]
  },
  {
   "cell_type": "code",
   "execution_count": 16,
   "id": "24db4b54-92e0-4e09-ae04-a1e5b0a65591",
   "metadata": {},
   "outputs": [],
   "source": [
    "def total_price_of_customer(customer_orders: Set[str]) -> float:\n",
    "    total_price = 0\n",
    "    for item in customer_orders:\n",
    "        while True:\n",
    "            try:\n",
    "                price = float(input(f\"Enter the price of {item}: \"))\n",
    "                if price < 0:\n",
    "                    print(\"Price cannot be negative.\")\n",
    "                else:\n",
    "                    total_price += price\n",
    "                    break\n",
    "            except ValueError:\n",
    "                print(\"Invalid price. Please enter a valid number.\")\n",
    "    return total_price\n"
   ]
  },
  {
   "cell_type": "markdown",
   "id": "99861afc-c872-41ab-a7e0-56158f8201ea",
   "metadata": {},
   "source": [
    "3. Modify the `get_customer_orders` function to include error handling.\n",
    "   - If the user enters an invalid number of orders (e.g., a negative value or a non-numeric value), display an error message and ask them to re-enter the number of orders.\n",
    "   - If the user enters an invalid product name (e.g., a product name that is not in the inventory), or that doesn't have stock available, display an error message and ask them to re-enter the product name. *Hint: you will need to pass inventory as a parameter*\n",
    "   - Use a try-except block to handle the error and continue prompting the user until a valid product name is entered.\n"
   ]
  },
  {
   "cell_type": "code",
   "execution_count": 21,
   "id": "24abf221-951b-4c84-bbed-d8fde366eef6",
   "metadata": {},
   "outputs": [],
   "source": [
    "def get_customer_orders(products: List[str], inventory: Dict[str, int]) -> Set[str]:\n",
    "    customer_orders = set()\n",
    "    while True:\n",
    "        try:\n",
    "            n = int(input(\"How many items would you like to order? \"))\n",
    "            if n < 0:\n",
    "                print(\"The number of items must be non-negative.\")\n",
    "                continue\n",
    "            break\n",
    "        except ValueError:\n",
    "            print(\"Please enter a valid number.\")\n",
    "\n",
    "    for _ in range(n):\n",
    "        while True:\n",
    "            item = input(\"Insert one of the items: T-shirt, Mug, Hat, Book, Keychain: \").lower()\n",
    "            if item not in products:\n",
    "                print(\"That was not a valid item!\")\n",
    "            elif inventory.get(item, 0) <= 0:\n",
    "                print(\"Sorry, that item is out of stock.\")\n",
    "            else:\n",
    "                customer_orders.add(item)\n",
    "                break\n",
    "    return customer_orders"
   ]
  },
  {
   "cell_type": "code",
   "execution_count": 28,
   "id": "b61196be-44ba-44a5-8f95-236da1af1076",
   "metadata": {},
   "outputs": [],
   "source": [
    "def update_inventory(customer_orders: Set[str], inventory: Dict[str, int]) -> Dict[str, int]:\n",
    "    return {item: (quantity - 1 if item in customer_orders else quantity)\n",
    "            for item, quantity in inventory.items()}\n",
    "\n",
    "def calculate_order_statistics(customer_orders: Set[str], products: List[str]) -> Dict[str, float]:\n",
    "    total_ordered = len(customer_orders)\n",
    "    unique_percentage = (total_ordered / len(products)) * 100 if products else 0\n",
    "    return {\n",
    "        \"Total Products Ordered\": total_ordered,\n",
    "        \"Percentage of Unique Products Ordered\": round(unique_percentage, 2)\n",
    "    }\n",
    "\n",
    "\n",
    "def print_order_statistics(statistics: Dict[str, float]) -> None:\n",
    "    print(\"\\nOrder Statistics:\")\n",
    "    for stat, value in statistics.items():\n",
    "        print(f\"{stat}: {value}\")\n",
    "\n",
    "def print_updated_inventory(inventory: Dict[str, int]) -> None:\n",
    "    print(\"\\nUpdated Inventory:\")\n",
    "    for product, quantity in inventory.items():\n",
    "        print(f\"{product}: {quantity}\")"
   ]
  },
  {
   "cell_type": "code",
   "execution_count": 30,
   "id": "75b404a8-a0d7-46b5-a254-7b82ada616a5",
   "metadata": {},
   "outputs": [
    {
     "name": "stdin",
     "output_type": "stream",
     "text": [
      "Enter the quantity of t-shirts available:  1\n",
      "Enter the quantity of mugs available:  1\n",
      "Enter the quantity of hats available:  1\n",
      "Enter the quantity of books available:  1\n",
      "Enter the quantity of keychains available:  1\n",
      "How many items would you like to order?  2\n",
      "Insert one of the items: T-shirt, Mug, Hat, Book, Keychain:  hat\n",
      "Insert one of the items: T-shirt, Mug, Hat, Book, Keychain:  mug\n"
     ]
    },
    {
     "name": "stdout",
     "output_type": "stream",
     "text": [
      "\n",
      "Order Statistics:\n",
      "Total Products Ordered: 2\n",
      "Percentage of Unique Products Ordered: 40.0\n"
     ]
    },
    {
     "name": "stdin",
     "output_type": "stream",
     "text": [
      "Enter the price of mug:  20\n",
      "Enter the price of hat:  10\n"
     ]
    },
    {
     "name": "stdout",
     "output_type": "stream",
     "text": [
      "\n",
      "Total Price: 30.0\n",
      "\n",
      "Updated Inventory:\n",
      "t-shirt: 1\n",
      "mug: 0\n",
      "hat: 0\n",
      "book: 1\n",
      "keychain: 1\n"
     ]
    }
   ],
   "source": [
    "# Program Flow\n",
    "products = [\"t-shirt\", \"mug\", \"hat\", \"book\", \"keychain\"]\n",
    "inventory = initialize_inventory(products)\n",
    "customer_orders = get_customer_orders(products, inventory)\n",
    "inventory = update_inventory(customer_orders, inventory)\n",
    "order_statistics = calculate_order_statistics(customer_orders, products)\n",
    "print_order_statistics(order_statistics)\n",
    "total_price = total_price_of_customer(customer_orders)\n",
    "print(f\"\\nTotal Price: {total_price}\")\n",
    "print_updated_inventory(inventory)"
   ]
  },
  {
   "cell_type": "code",
   "execution_count": null,
   "id": "27b834f9-d715-4d88-9af0-33eba46c8896",
   "metadata": {},
   "outputs": [],
   "source": []
  }
 ],
 "metadata": {
  "kernelspec": {
   "display_name": "Python [conda env:base] *",
   "language": "python",
   "name": "conda-base-py"
  },
  "language_info": {
   "codemirror_mode": {
    "name": "ipython",
    "version": 3
   },
   "file_extension": ".py",
   "mimetype": "text/x-python",
   "name": "python",
   "nbconvert_exporter": "python",
   "pygments_lexer": "ipython3",
   "version": "3.11.5"
  }
 },
 "nbformat": 4,
 "nbformat_minor": 5
}
